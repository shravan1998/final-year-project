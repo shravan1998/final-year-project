{
 "cells": [
  {
   "cell_type": "code",
   "execution_count": 24,
   "metadata": {},
   "outputs": [
    {
     "name": "stdout",
     "output_type": "stream",
     "text": [
      "(395, 23)\n",
      "   Pstatus  Medu  Fedu  traveltime  studytime  failures  schoolsup  famsup  \\\n",
      "0        0     4     4           2          2         0          1       0   \n",
      "1        1     1     1           1          2         0          0       1   \n",
      "2        1     1     1           1          2         3          1       0   \n",
      "3        1     4     2           1          3         0          0       1   \n",
      "4        1     3     3           1          2         0          0       1   \n",
      "\n",
      "   paid  activities  ...  famrel  freetime goout  Dalc  Walc  health  \\\n",
      "0     0           0  ...       4         3     4     1     1       3   \n",
      "1     0           0  ...       5         3     3     1     1       3   \n",
      "2     1           0  ...       4         3     2     2     3       3   \n",
      "3     1           1  ...       3         2     2     1     1       5   \n",
      "4     1           0  ...       4         3     2     1     2       5   \n",
      "\n",
      "   absences  G1  G2  G3  \n",
      "0         6   5   6   6  \n",
      "1         4   5   5   6  \n",
      "2        10   7   8  10  \n",
      "3         2  15  14  15  \n",
      "4         4   6  10  10  \n",
      "\n",
      "[5 rows x 23 columns]\n"
     ]
    }
   ],
   "source": [
    "import numpy as np\n",
    "import pandas as pd\n",
    "import tensorflow as tf \n",
    "import matplotlib.pyplot as plt\n",
    "import csv\n",
    "from sklearn.preprocessing import OneHotEncoder \n",
    "\n",
    "students=pd.read_csv(\"student-mat.csv\")\n",
    "#print(students)\n",
    "students['internet']= students.internet.map({'yes':1,'no':0})\n",
    "students['activities']= students.activities.map({'yes':1,'no':0})\n",
    "students['famsup']= students.famsup.map({'yes':1,'no':0})\n",
    "students['schoolsup']= students.schoolsup.map({'yes':1,'no':0})\n",
    "students['Pstatus']= students.Pstatus.map({'T':1,'A':0})\n",
    "students['paid']= students.paid.map({'yes':1,'no':0})\n",
    "students['nursery']= students.nursery.map({'yes':1,'no':0})\n",
    "students.drop(['school','age','sex','address','famsize','Mjob','Fjob','reason','guardian','higher'],axis=1,inplace=True)\n",
    "#print(students['internet'])\n",
    "print(students.shape) \n",
    "print(students.head()) \n",
    "#print(students)\n"
   ]
  },
  {
   "cell_type": "code",
   "execution_count": null,
   "metadata": {},
   "outputs": [],
   "source": []
  },
  {
   "cell_type": "code",
   "execution_count": null,
   "metadata": {},
   "outputs": [],
   "source": []
  },
  {
   "cell_type": "code",
   "execution_count": null,
   "metadata": {},
   "outputs": [],
   "source": []
  }
 ],
 "metadata": {
  "kernelspec": {
   "display_name": "Python 3",
   "language": "python",
   "name": "python3"
  },
  "language_info": {
   "codemirror_mode": {
    "name": "ipython",
    "version": 3
   },
   "file_extension": ".py",
   "mimetype": "text/x-python",
   "name": "python",
   "nbconvert_exporter": "python",
   "pygments_lexer": "ipython3",
   "version": "3.7.4"
  }
 },
 "nbformat": 4,
 "nbformat_minor": 2
}
