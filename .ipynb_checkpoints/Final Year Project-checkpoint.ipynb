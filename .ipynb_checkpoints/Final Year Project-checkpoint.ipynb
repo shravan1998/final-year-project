{
 "cells": [
  {
   "cell_type": "code",
   "execution_count": 20,
   "metadata": {},
   "outputs": [
    {
     "name": "stdout",
     "output_type": "stream",
     "text": [
      "(395, 25)\n",
      "   Pstatus  Medu  Fedu  traveltime  studytime  failures  schoolsup  famsup  \\\n",
      "0        0     4     4           2          2         0          1       0   \n",
      "1        1     1     1           1          2         0          0       1   \n",
      "2        1     1     1           1          2         3          1       0   \n",
      "3        1     4     2           1          3         0          0       1   \n",
      "4        1     3     3           1          2         0          0       1   \n",
      "\n",
      "   paid  activities  ...  goout  Dalc Walc  health  absences  G1  G2  G3  \\\n",
      "0     0           0  ...      4     1    1       3         6   5   6   6   \n",
      "1     0           0  ...      3     1    1       3         4   5   5   6   \n",
      "2     1           0  ...      2     2    3       3        10   7   8  10   \n",
      "3     1           1  ...      2     1    1       5         2  15  14  15   \n",
      "4     1           0  ...      2     1    2       5         4   6  10  10   \n",
      "\n",
      "   average         remark  \n",
      "0      6.0           Fail  \n",
      "1      5.0           Fail  \n",
      "2      8.0  Below Average  \n",
      "3     15.0      Excellent  \n",
      "4      9.0  Below Average  \n",
      "\n",
      "[5 rows x 25 columns]\n"
     ]
    },
    {
     "ename": "ValueError",
     "evalue": "too many values to unpack (expected 2)",
     "output_type": "error",
     "traceback": [
      "\u001b[1;31m---------------------------------------------------------------------------\u001b[0m",
      "\u001b[1;31mValueError\u001b[0m                                Traceback (most recent call last)",
      "\u001b[1;32m<ipython-input-20-643bbfdb9e2d>\u001b[0m in \u001b[0;36m<module>\u001b[1;34m\u001b[0m\n\u001b[0;32m     38\u001b[0m \u001b[1;31m#print(students)\u001b[0m\u001b[1;33m\u001b[0m\u001b[1;33m\u001b[0m\u001b[1;33m\u001b[0m\u001b[0m\n\u001b[0;32m     39\u001b[0m \u001b[0mnum_clusters\u001b[0m \u001b[1;33m=\u001b[0m \u001b[1;36m5\u001b[0m\u001b[1;33m\u001b[0m\u001b[1;33m\u001b[0m\u001b[0m\n\u001b[1;32m---> 40\u001b[1;33m \u001b[1;33m(\u001b[0m\u001b[0mx_train\u001b[0m\u001b[1;33m,\u001b[0m \u001b[0my_train\u001b[0m\u001b[1;33m)\u001b[0m\u001b[1;33m,\u001b[0m \u001b[1;33m(\u001b[0m\u001b[0mx_test\u001b[0m\u001b[1;33m,\u001b[0m \u001b[0my_test\u001b[0m\u001b[1;33m)\u001b[0m \u001b[1;33m=\u001b[0m \u001b[0mstudents\u001b[0m\u001b[1;33m[\u001b[0m\u001b[1;34m'remark'\u001b[0m\u001b[1;33m]\u001b[0m\u001b[1;33m\u001b[0m\u001b[1;33m\u001b[0m\u001b[0m\n\u001b[0m\u001b[0;32m     41\u001b[0m \u001b[0mx\u001b[0m \u001b[1;33m=\u001b[0m \u001b[0mnp\u001b[0m\u001b[1;33m.\u001b[0m\u001b[0mconcatenate\u001b[0m\u001b[1;33m(\u001b[0m\u001b[1;33m(\u001b[0m\u001b[0mx_train\u001b[0m\u001b[1;33m,\u001b[0m \u001b[0mx_test\u001b[0m\u001b[1;33m)\u001b[0m\u001b[1;33m)\u001b[0m\u001b[1;33m\u001b[0m\u001b[1;33m\u001b[0m\u001b[0m\n\u001b[0;32m     42\u001b[0m \u001b[0my\u001b[0m \u001b[1;33m=\u001b[0m \u001b[0mnp\u001b[0m\u001b[1;33m.\u001b[0m\u001b[0mconcatenate\u001b[0m\u001b[1;33m(\u001b[0m\u001b[1;33m(\u001b[0m\u001b[0my_train\u001b[0m\u001b[1;33m,\u001b[0m \u001b[0my_test\u001b[0m\u001b[1;33m)\u001b[0m\u001b[1;33m)\u001b[0m\u001b[1;33m\u001b[0m\u001b[1;33m\u001b[0m\u001b[0m\n",
      "\u001b[1;31mValueError\u001b[0m: too many values to unpack (expected 2)"
     ]
    }
   ],
   "source": [
    "import numpy as np\n",
    "import pandas as pd\n",
    "import tensorflow as tf \n",
    "#from tensorflow import tensorflow_estimator\n",
    "from sklearn.cluster import KMeans\n",
    "#from keras.datasets import mnist\n",
    "import matplotlib.pyplot as plt\n",
    "import csv\n",
    "from sklearn.preprocessing import OneHotEncoder \n",
    "import random as rd\n",
    "import matplotlib.pyplot as plt\n",
    "\n",
    "students=pd.read_csv(\"student-mat.csv\")\n",
    "#print(students)\n",
    "students['internet']= students.internet.map({'yes':1,'no':0})\n",
    "students['activities']= students.activities.map({'yes':1,'no':0})\n",
    "students['famsup']= students.famsup.map({'yes':1,'no':0})\n",
    "students['schoolsup']= students.schoolsup.map({'yes':1,'no':0})\n",
    "students['Pstatus']= students.Pstatus.map({'T':1,'A':0})\n",
    "students['paid']= students.paid.map({'yes':1,'no':0})\n",
    "students['nursery']= students.nursery.map({'yes':1,'no':0})\n",
    "students.drop(['school','age','sex','address','famsize','Mjob','Fjob','reason','guardian','higher'],axis=1,inplace=True)\n",
    "#print(students['internet'])\n",
    "students['average']=np.around((students['G1']+students['G2']+students['G3'])/3)\n",
    "for i in range(0,len(students['average'])):\n",
    "    if(np.greater_equal(students['average'][i],15.0)):\n",
    "        students.at[i,'remark']='Excellent'\n",
    "    elif(np.greater_equal(students['average'][i],12.0) and np.less(students['average'][i],15.0)):\n",
    "        students.at[i,'remark']='Good'\n",
    "    elif(np.greater_equal(students['average'][i],10.0) and np.less(students['average'][i],12.0)):\n",
    "        students.at[i,'remark']='Average'\n",
    "    elif(np.greater_equal(students['average'][i],7) and np.less(students['average'][i],10)):\n",
    "        students.at[i,'remark']='Below Average'\n",
    "    elif(np.less(students['average'][i],7)):\n",
    "        students.at[i,'remark']='Fail'\n",
    "print(students.shape) \n",
    "print(students.head()) \n",
    "#print(students)\n",
    "num_clusters = 5\n",
    "(x_train, y_train), (x_test, y_test) = students['remark']\n",
    "x = np.concatenate((x_train, x_test))\n",
    "y = np.concatenate((y_train, y_test))\n",
    "x = x.reshape((x.shape[0], -1))\n",
    "x = np.divide(x, 255.)\n",
    "# 10 clusters\n",
    "\n",
    "# Runs in parallel 4 CPUs\n",
    "kmeans = KMeans(n_clusters=num_clusters, n_init=20, n_jobs=4)\n",
    "# Train K-Means.\n",
    "y_pred_kmeans = kmeans.fit_predict(x)\n",
    "# Evaluate the K-Means clustering accuracy.\n",
    "metrics.acc(y, y_pred_kmeans)"
   ]
  },
  {
   "cell_type": "code",
   "execution_count": null,
   "metadata": {},
   "outputs": [],
   "source": []
  },
  {
   "cell_type": "code",
   "execution_count": null,
   "metadata": {},
   "outputs": [],
   "source": []
  },
  {
   "cell_type": "code",
   "execution_count": null,
   "metadata": {},
   "outputs": [],
   "source": []
  }
 ],
 "metadata": {
  "kernelspec": {
   "display_name": "Python 3",
   "language": "python",
   "name": "python3"
  },
  "language_info": {
   "codemirror_mode": {
    "name": "ipython",
    "version": 3
   },
   "file_extension": ".py",
   "mimetype": "text/x-python",
   "name": "python",
   "nbconvert_exporter": "python",
   "pygments_lexer": "ipython3",
   "version": "3.7.4"
  }
 },
 "nbformat": 4,
 "nbformat_minor": 2
}
